{
 "cells": [
  {
   "cell_type": "markdown",
   "id": "58683db8",
   "metadata": {},
   "source": [
    "Data Generation (Mock Data)"
   ]
  },
  {
   "cell_type": "code",
   "execution_count": 1,
   "id": "a5258678",
   "metadata": {},
   "outputs": [
    {
     "name": "stdout",
     "output_type": "stream",
     "text": [
      "✅ Mock dataset generated: 100,000 rows\n",
      "   user_id        cart_abandoned_date            last_order_date  \\\n",
      "0  U000001 2025-08-27 20:30:42.005843 2025-06-26 20:30:42.005843   \n",
      "1  U000002 2025-09-09 20:30:42.005843 2025-09-17 20:30:42.005843   \n",
      "2  U000003 2025-09-18 20:30:42.005843 2025-07-08 20:30:42.005843   \n",
      "3  U000004 2025-09-04 20:30:42.005843 2025-07-13 20:30:42.005843   \n",
      "4  U000005 2025-08-31 20:30:42.005843 2025-07-30 20:30:42.005843   \n",
      "\n",
      "   avg_order_value  sessions_last_30d  num_cart_items  engagement_score  \\\n",
      "0      2064.483703                  9               3          0.136407   \n",
      "1      5194.792963                  2               3          0.277935   \n",
      "2       656.226466                  7               5          0.294941   \n",
      "3      1222.339164                  7               6          0.338720   \n",
      "4      1599.186873                  3               2          0.365381   \n",
      "\n",
      "   profitability_score  \n",
      "0             0.633541  \n",
      "1             0.567404  \n",
      "2             0.640938  \n",
      "3             0.730686  \n",
      "4             0.681914  \n"
     ]
    }
   ],
   "source": [
    "import pandas as pd\n",
    "import numpy as np\n",
    "from datetime import datetime, timedelta\n",
    "\n",
    "np.random.seed(42)\n",
    "\n",
    "def generate_mock_dataset(n=100000):\n",
    "    now = pd.Timestamp.now()\n",
    "    start_date = now - pd.Timedelta(days=30)\n",
    "    \n",
    "    data = {\n",
    "        'user_id': [f'U{i:06d}' for i in range(1, n+1)],\n",
    "        'cart_abandoned_date': pd.to_datetime(np.random.choice(\n",
    "            pd.date_range(start_date, now), size=n)),\n",
    "        'last_order_date': pd.to_datetime(np.random.choice(\n",
    "            pd.date_range(start_date - pd.Timedelta(days=90), now), size=n)),\n",
    "        'avg_order_value': np.random.lognormal(mean=7.5, sigma=0.8, size=n),  # Skewed like real AOV\n",
    "        'sessions_last_30d': np.random.poisson(lam=5, size=n),\n",
    "        'num_cart_items': np.random.randint(1, 10, size=n),\n",
    "        'engagement_score': np.clip(np.random.normal(0.5, 0.2, size=n), 0.0, 1.0),\n",
    "        'profitability_score': np.clip(np.random.normal(0.6, 0.15, size=n), 0.0, 1.0)\n",
    "    }\n",
    "    \n",
    "    df = pd.DataFrame(data)\n",
    "    # Ensure some cart abandonments in last 7 days\n",
    "    recent_abandoners = df.sample(frac=0.3, random_state=42).index\n",
    "    df.loc[recent_abandoners, 'cart_abandoned_date'] = np.random.choice(\n",
    "        pd.date_range(now - pd.Timedelta(days=7), now), size=len(recent_abandoners))\n",
    "    \n",
    "    return df\n",
    "\n",
    "# Generate and save\n",
    "df = generate_mock_dataset(100000)\n",
    "df.to_csv(\"mock_cart_abandoners.csv\", index=False)\n",
    "print(\"✅ Mock dataset generated: 100,000 rows\")\n",
    "print(df.head())"
   ]
  }
 ],
 "metadata": {
  "kernelspec": {
   "display_name": "base",
   "language": "python",
   "name": "python3"
  },
  "language_info": {
   "codemirror_mode": {
    "name": "ipython",
    "version": 3
   },
   "file_extension": ".py",
   "mimetype": "text/x-python",
   "name": "python",
   "nbconvert_exporter": "python",
   "pygments_lexer": "ipython3",
   "version": "3.9.13"
  }
 },
 "nbformat": 4,
 "nbformat_minor": 5
}
